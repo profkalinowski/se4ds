{
  "nbformat": 4,
  "nbformat_minor": 0,
  "metadata": {
    "colab": {
      "name": "12_ml_classificacao_poo.ipynb",
      "provenance": [],
      "collapsed_sections": [],
      "include_colab_link": true
    },
    "kernelspec": {
      "name": "python3",
      "display_name": "Python 3"
    }
  },
  "cells": [
    {
      "cell_type": "markdown",
      "metadata": {
        "id": "view-in-github",
        "colab_type": "text"
      },
      "source": [
        "<a href=\"https://colab.research.google.com/github/profkalinowski/se4ds/blob/main/12_ml_classificacao_poo.ipynb\" target=\"_parent\"><img src=\"https://colab.research.google.com/assets/colab-badge.svg\" alt=\"Open In Colab\"/></a>"
      ]
    },
    {
      "cell_type": "markdown",
      "metadata": {
        "id": "MDnXLbAXQbBn"
      },
      "source": [
        "# Engenharia de Software para Ciência de Dados - PUC-Rio\n",
        "\n",
        "### Modelo de classificação simples usando POO\n",
        "\n",
        "Marcos Kalinowski e Tatiana Escovedo"
      ]
    },
    {
      "cell_type": "code",
      "source": [
        "# Imports necessários\n",
        "import pandas as pd\n",
        "from sklearn.datasets import load_iris # para importar o dataset iris\n",
        "from sklearn.model_selection import train_test_split # para particionar em bases de treino e teste\n",
        "from sklearn.metrics import confusion_matrix # para a exibição da matriz de confusão do modelo\n",
        "from sklearn.metrics import accuracy_score # para a exibição da acurácia do modelo\n",
        "from sklearn.svm import SVC # para utilizar o algoritmo SVM"
      ],
      "metadata": {
        "id": "LeUm9vsF0nmY"
      },
      "execution_count": 11,
      "outputs": []
    },
    {
      "cell_type": "markdown",
      "source": [
        "## Sem POO"
      ],
      "metadata": {
        "id": "ibELgG7qoQpP"
      }
    },
    {
      "cell_type": "code",
      "source": [
        "## Versão estruturada\n",
        "\n",
        "# Carga do dataset\n",
        "iris = load_iris()\n",
        "dataset = pd.DataFrame(iris.data, columns=iris.feature_names) # conversão para dataframe\n",
        "dataset['target'] = iris.target # adição da coluna target\n",
        "\n",
        "# Separação em bases de treino e teste\n",
        "array = dataset.values\n",
        "X = array[:,0:4]\n",
        "Y = array[:,4]\n",
        "X_train, X_test, Y_train, Y_test = train_test_split(X, Y, test_size=0.20, random_state=7)\n",
        "\n",
        "# Criação do modelo e predições\n",
        "model = SVC() # cria o modelo\n",
        "model.fit(X_train, Y_train) # treina o modelo com o dataset de treino\n",
        "predictions = model.predict(X_test) # faz as predições com o dataset de teste\n",
        "\n",
        "# Avaliação das predições\n",
        "print(accuracy_score(Y_test, predictions)) # acurácia"
      ],
      "metadata": {
        "colab": {
          "base_uri": "https://localhost:8080/"
        },
        "id": "-870C7yUoQ0l",
        "outputId": "c783beb5-d1e7-4599-97a6-5a84afa639ee"
      },
      "execution_count": 14,
      "outputs": [
        {
          "output_type": "stream",
          "name": "stdout",
          "text": [
            "0.8666666666666667\n"
          ]
        }
      ]
    },
    {
      "cell_type": "markdown",
      "source": [
        "## Com POO"
      ],
      "metadata": {
        "id": "A5JdleHxMwdC"
      }
    },
    {
      "cell_type": "code",
      "source": [
        "!pip install pycodestyle pycodestyle_magic\n",
        "!pip install flake8\n",
        "%load_ext pycodestyle_magic\n",
        "\n"
      ],
      "metadata": {
        "colab": {
          "base_uri": "https://localhost:8080/"
        },
        "id": "gudU2uP4PPL9",
        "outputId": "df60b265-11ca-472e-8c4e-be8f74d3e9ba"
      },
      "execution_count": 15,
      "outputs": [
        {
          "output_type": "stream",
          "name": "stdout",
          "text": [
            "Requirement already satisfied: pycodestyle in /usr/local/lib/python3.7/dist-packages (2.8.0)\n",
            "Requirement already satisfied: pycodestyle_magic in /usr/local/lib/python3.7/dist-packages (0.5)\n",
            "Requirement already satisfied: flake8 in /usr/local/lib/python3.7/dist-packages (4.0.1)\n",
            "Requirement already satisfied: mccabe<0.7.0,>=0.6.0 in /usr/local/lib/python3.7/dist-packages (from flake8) (0.6.1)\n",
            "Requirement already satisfied: pycodestyle<2.9.0,>=2.8.0 in /usr/local/lib/python3.7/dist-packages (from flake8) (2.8.0)\n",
            "Requirement already satisfied: pyflakes<2.5.0,>=2.4.0 in /usr/local/lib/python3.7/dist-packages (from flake8) (2.4.0)\n",
            "Requirement already satisfied: importlib-metadata<4.3 in /usr/local/lib/python3.7/dist-packages (from flake8) (4.2.0)\n",
            "Requirement already satisfied: typing-extensions>=3.6.4 in /usr/local/lib/python3.7/dist-packages (from importlib-metadata<4.3->flake8) (3.10.0.2)\n",
            "Requirement already satisfied: zipp>=0.5 in /usr/local/lib/python3.7/dist-packages (from importlib-metadata<4.3->flake8) (3.6.0)\n"
          ]
        }
      ]
    },
    {
      "cell_type": "code",
      "source": [
        "%%pycodestyle\n",
        "\n",
        "# Em programas mais robustos, teríamos um arquivo .py para cada classe e\n",
        "# importaríamos as classes para executar o programa:\n",
        "# from <nome-do-arquivo> import <nome-da-classe>\n",
        "\n",
        "class Loader:\n",
        "\n",
        "    def load_data(self, dataset_url: str, attributes: list):\n",
        "        \"\"\" Carrega e retorna um dataset.\n",
        "        Há diversos parâmetros no read_csv para dar opções adicionais.\n",
        "        \"\"\"\n",
        "        return pd.read_csv(dataset_url, names=attributes)\n",
        "\n",
        "\n",
        "class PreProcessor:\n",
        "\n",
        "    def preprocess(self, dataset, test_size, seed=7):\n",
        "        \"\"\" Cuida de todo o pré-processamento. \"\"\"\n",
        "        # limpeza dos dados\n",
        "        # divisão em treino e teste\n",
        "        X_train, X_test, Y_train, Y_test =\n",
        "        self.__prepare_holdout(dataset, test_size, seed)\n",
        "        # normalização/padronização\n",
        "        return (X_train, X_test, Y_train, Y_test)\n",
        "\n",
        "    def __prepare_holdout(self, dataset, test_size, seed):\n",
        "        \"\"\" Divide os dados em treino e teste usando o método holdout.\n",
        "        Assume que a variável target está na última coluna.\n",
        "        O parâmetro test_size é o percentual de dados de teste.\n",
        "        \"\"\"\n",
        "        array = dataset.values\n",
        "        X = array[:, 0:-1]\n",
        "        Y = array[:, -1]\n",
        "        return train_test_split(X, Y, test_size=test_size, random_state=seed)\n",
        "\n",
        "\n",
        "class MLModel:\n",
        "\n",
        "    def trainSVM(self, X_train, Y_train):\n",
        "        \"\"\" Cria e treina um modelo SVM. Poderia ter um Grid Search\n",
        "        com cross_validation para escolher os melhores hiperparâmetros, etc.\n",
        "        \"\"\"\n",
        "        model = SVC()\n",
        "        model.fit(X_train, Y_train)\n",
        "        return model\n",
        "\n",
        "\n",
        "class MlEvaluator:\n",
        "\n",
        "    def evaluate_accuracy(self, model, X_test, Y_test):\n",
        "        \"\"\" Faz uma predição e avalia o modelo. Poderia parametrizar o tipo de\n",
        "        avaliação, entre outros.\n",
        "        \"\"\"\n",
        "        predictions = model.predict(X_test)\n",
        "        return accuracy_score(Y_test, predictions)\n",
        "\n",
        "\n",
        "# Este código começaria daqui, logo após os imports\n",
        "# from loader import Loader\n",
        "# from preprocessor import PreProcessor\n",
        "# from ml_model import MLModel\n",
        "# from ml_evaluator import MlEvaluator\n",
        "\n",
        "# Instanciação das Classes\n",
        "loader = Loader()\n",
        "preprocessor = PreProcessor()\n",
        "ml_model = MLModel()\n",
        "ml_evaluator = MlEvaluator()\n",
        "\n",
        "# Parâmetros\n",
        "url_dados = ('https://archive.ics.uci.edu/'\n",
        "             'ml/machine-learning-databases/iris/iris.data')\n",
        "atributos = ['comprimento_sepala', 'largura_sepala',\n",
        "             'comprimento_petala', 'largura_petala',\n",
        "             'especie']\n",
        "test_size = 0.2\n",
        "\n",
        "# Código\n",
        "\n",
        "# carga\n",
        "dataset = loader.load_data(url_dados, atributos)\n",
        "# pré-processamento\n",
        "X_train, X_test, Y_train, Y_test = preprocessor.preprocess(dataset, test_size)\n",
        "# treinamento do modelo\n",
        "model = ml_model.trainSVM(X_train, Y_train)\n",
        "# impressão do resultado da avaliação\n",
        "print(ml_evaluator.evaluate_accuracy(model, X_test, Y_test))"
      ],
      "metadata": {
        "id": "YHn8HbDg0i5P"
      },
      "execution_count": 16,
      "outputs": []
    },
    {
      "cell_type": "markdown",
      "source": [
        "## PyTest"
      ],
      "metadata": {
        "id": "ugzwgOZLlURp"
      }
    },
    {
      "cell_type": "code",
      "source": [
        "!pip -q install pytest pytest-sugar"
      ],
      "metadata": {
        "id": "w6VHpme5dAlk"
      },
      "execution_count": 13,
      "outputs": []
    },
    {
      "cell_type": "code",
      "source": [
        "# cleanup all files\n",
        "%rm *.py"
      ],
      "metadata": {
        "id": "T2dhM06seDSA"
      },
      "execution_count": 14,
      "outputs": []
    },
    {
      "cell_type": "code",
      "source": [
        "%%file loader.py\n",
        "\n",
        "# Imports necessários\n",
        "import pandas as pd\n",
        "from sklearn.datasets import load_iris # para importar o dataset iris\n",
        "\n",
        "class Loader:\n",
        "\n",
        "    def load_data(self, dataset_url: str, attributes: list):\n",
        "        \"\"\" Carrega e retorna um dataset.\n",
        "        Há diversos parâmetros no read_csv para dar opções adicionais.\n",
        "        \"\"\"\n",
        "        return pd.read_csv(dataset_url, names=attributes)\n"
      ],
      "metadata": {
        "colab": {
          "base_uri": "https://localhost:8080/"
        },
        "id": "EmGr1Ln1ivgH",
        "outputId": "bddeeeba-9d05-42c0-83e1-49c51474cd69"
      },
      "execution_count": 15,
      "outputs": [
        {
          "output_type": "stream",
          "name": "stdout",
          "text": [
            "Writing loader.py\n"
          ]
        }
      ]
    },
    {
      "cell_type": "code",
      "source": [
        "%%file test_load.py\n",
        "\n",
        "from loader import Loader\n",
        "def test_load_data():\n",
        "    url_dados = ('https://archive.ics.uci.edu/'\n",
        "                 'ml/machine-learning-databases/iris/iris.data')\n",
        "    atributos = ['comprimento_sepala', 'largura_sepala',\n",
        "                 'comprimento_petala', 'largura_petala',\n",
        "                 'especie']\n",
        "\n",
        "    loader = Loader()\n",
        "    dataset = loader.load_data(url_dados, atributos)\n",
        "    \n",
        "    assert len(dataset) == 150\n"
      ],
      "metadata": {
        "colab": {
          "base_uri": "https://localhost:8080/"
        },
        "id": "pXZEbC5zdQ5U",
        "outputId": "c4c97b93-e514-45c6-d770-ce05fb8be14b"
      },
      "execution_count": 16,
      "outputs": [
        {
          "output_type": "stream",
          "name": "stdout",
          "text": [
            "Writing test_load.py\n"
          ]
        }
      ]
    },
    {
      "cell_type": "code",
      "source": [
        "!python -m pytest test_load.py"
      ],
      "metadata": {
        "colab": {
          "base_uri": "https://localhost:8080/"
        },
        "id": "88Slw9_3dje5",
        "outputId": "38e75442-0f92-42ca-da1a-f3a65aab78ff"
      },
      "execution_count": 21,
      "outputs": [
        {
          "output_type": "stream",
          "name": "stdout",
          "text": [
            "\u001b[1mTest session starts (platform: linux, Python 3.7.12, pytest 3.6.4, pytest-sugar 0.9.4)\u001b[0m\n",
            "rootdir: /content, inifile:\n",
            "plugins: typeguard-2.7.1, sugar-0.9.4\n",
            "\n",
            " \u001b[36m\u001b[0mtest_load.py\u001b[0m \u001b[32m✓\u001b[0m                                                  \u001b[32m100% \u001b[0m\u001b[40m\u001b[32m█\u001b[0m\u001b[40m\u001b[32m█████████\u001b[0m\n",
            "\n",
            "Results (1.42s):\n",
            "\u001b[32m       1 passed\u001b[0m\n"
          ]
        }
      ]
    }
  ]
}