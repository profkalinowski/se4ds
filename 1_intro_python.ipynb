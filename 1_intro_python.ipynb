{
  "nbformat": 4,
  "nbformat_minor": 0,
  "metadata": {
    "colab": {
      "name": "1_intro_python.ipynb",
      "provenance": [],
      "collapsed_sections": [
        "BTEQ7Jkg1oHS",
        "FP8eDc063Tvr",
        "FgvuadFJ44he",
        "eVsm3csc5eN7",
        "MSdvc_x67Ji-",
        "Bu0hscz_77rA",
        "3VNr-wmhYRyJ",
        "6WE15aEjcIJ0"
      ],
      "include_colab_link": true
    },
    "kernelspec": {
      "name": "python3",
      "display_name": "Python 3"
    }
  },
  "cells": [
    {
      "cell_type": "markdown",
      "metadata": {
        "id": "view-in-github",
        "colab_type": "text"
      },
      "source": [
        "<a href=\"https://colab.research.google.com/github/profkalinowski/se4ds/blob/main/1_intro_python.ipynb\" target=\"_parent\"><img src=\"https://colab.research.google.com/assets/colab-badge.svg\" alt=\"Open In Colab\"/></a>"
      ]
    },
    {
      "cell_type": "markdown",
      "metadata": {
        "id": "6Pb-hJW2yNrv"
      },
      "source": [
        "# Engenharia de Software para Ciência de Dados - PUC-Rio\n",
        "### Introdução a Python - Prof. Marcos Kalinowski (adaptado de material cedido pela Prof. Tatiana Escovedo)\n",
        "\n",
        "---\n",
        "\n",
        "*Baseado no tutorial \"Learn Python in 5 minutes\", disponível em:*\n",
        "\n",
        "https://medium.com/@peterjaberau/learn-python-in-5-minutes-b10bf6e2cdb9\n",
        "\n",
        "Outros link recomendados:\n",
        "* https://docs.python.org/3/tutorial/index.html\n",
        "* https://www.w3schools.com/python/default.asp\n",
        "\n",
        "---\n",
        "\n"
      ]
    },
    {
      "cell_type": "markdown",
      "metadata": {
        "id": "kOt4524TyyUy"
      },
      "source": [
        "Principais  bibliotecas que estudaremos nesta disciplina:\n",
        "* Manipulação de Dados: **Pandas** e **NumPy**\n",
        "* Visualização de Dados: **Seaborn** e **Matplotlib**\n",
        "* Machine Learning: **Scikit-Learn**\n",
        "\n",
        "Outras IDEs conhecidas (Todas vêm junto com a plataforma Anaconda - https://www.anaconda.com/):\n",
        "* PyCharm\n",
        "* Jupyter Notebook\n",
        "* JupyterLab\n",
        "* Spyder\n"
      ]
    },
    {
      "cell_type": "markdown",
      "metadata": {
        "id": "jr3OyKENz22_"
      },
      "source": [
        "# Básico de Python"
      ]
    },
    {
      "cell_type": "markdown",
      "metadata": {
        "id": "HPGhHXNF1wHL"
      },
      "source": [
        "## Primeiro Programa"
      ]
    },
    {
      "cell_type": "code",
      "metadata": {
        "id": "Hak_MlsisPH6",
        "colab": {
          "base_uri": "https://localhost:8080/"
        },
        "outputId": "45804c8d-adfb-4ca9-d855-92290c72e85c"
      },
      "source": [
        "# Isto é um comentário\n",
        "print(\"Hello, world!\")"
      ],
      "execution_count": null,
      "outputs": [
        {
          "output_type": "stream",
          "name": "stdout",
          "text": [
            "Hello, world!\n"
          ]
        }
      ]
    },
    {
      "cell_type": "markdown",
      "metadata": {
        "id": "5cQ8v5SfAm3Y"
      },
      "source": [
        ""
      ]
    },
    {
      "cell_type": "markdown",
      "metadata": {
        "id": "4bltbumY1Clu"
      },
      "source": [
        "**Observações:**\n",
        "* Um programa em Python pode ser um único arquivo com a extensão .py ou uma pasta com subpastas e arquivos contendo código Python e outros recursos a serem usados no programa (ex: datasets e imagens). \n",
        "* Lembre-se de que todas as vezes que abrir um parênteses, você deverá \n",
        "fechá-lo, assim como as aspas. Caso contrário, será exibida uma mensagem de erro pelo interpretador assim que você tentar executar o código. \n",
        "* Em Python geralmente não finalizamos as instruções com uso de ponto e vírgula (é permitido mas não é obrigatório). Quando existe a necessidade de colocar mais de uma instrução na mesma linha é obrigatório o ponto e vírgula para informar ao interpretador o início e o fim de cada instrução.\n",
        "\n",
        "\n",
        "**Recomendações de escrita de código e Linters**\n",
        "* A forma recomendada de se escrever um programa em Python é definida pelo PEP 8 (https://www.python.org/dev/peps/pep-0008/), o guia de estilos de Python, e pelo PEP 257 (https://www.python.org/dev/peps/pep-0257/), convenções de docstrings (comentários de módulos, funções, classes e métodos que se tornam a propriedade __doc__ desses elementos e aparecem quando invocamos o help deles).\n",
        "* A existência de um guia de estilos para uma linguagem é uma iniciativa excelente. No entanto, a tarefa de lembrar de todas essas regras e aplicá-las corretamente é repetitiva e, portanto, passível de erros humanos. Para contornar esse problema, a comunidade Python criou programas chamados de **linters**, programas que varrem os códigos-fonte em busca de trechos que estejam em desacordo com os estilos recomendados e que potencialmente apresentem resultados indesejados ou padrões perigosos de código."
      ]
    },
    {
      "cell_type": "markdown",
      "metadata": {
        "id": "ZFQcPUw-1yBK"
      },
      "source": [
        "## Variáveis"
      ]
    },
    {
      "cell_type": "code",
      "metadata": {
        "id": "LsTCAdS-0VTN",
        "colab": {
          "base_uri": "https://localhost:8080/"
        },
        "outputId": "49029654-6e69-4ae4-bd01-1decdaf3e6a5"
      },
      "source": [
        "# Variáveis: Definição e tipos\n",
        "\n",
        "# Declarando 3 variáveis e atribuindo valores a elas\n",
        "var_string = \"Hello!\"\n",
        "var_number = 9\n",
        "var_float = 9.0\n",
        "\n",
        "# Imprimindo os valores das variáveis\n",
        "print(var_string)\n",
        "print(var_number)\n",
        "print(var_float)\n",
        "\n",
        "# Imprimindo os tipos das variáveis\n",
        "print(type(var_string))\n",
        "print(type(var_number))\n",
        "print(type(var_float))"
      ],
      "execution_count": null,
      "outputs": [
        {
          "output_type": "stream",
          "name": "stdout",
          "text": [
            "Hello!\n",
            "9\n",
            "9.0\n",
            "<class 'str'>\n",
            "<class 'int'>\n",
            "<class 'float'>\n"
          ]
        }
      ]
    },
    {
      "cell_type": "code",
      "metadata": {
        "id": "pJrSlM8M0d4P",
        "colab": {
          "base_uri": "https://localhost:8080/"
        },
        "outputId": "7ec67c33-f031-4f7e-ad02-fddcc6598efa"
      },
      "source": [
        "# Conversões de variáveis\n",
        "\n",
        "print(var_float)\n",
        "print(int(var_float))          # Convert to int\n",
        "print(str(var_float))          # Convert to string"
      ],
      "execution_count": null,
      "outputs": [
        {
          "output_type": "stream",
          "name": "stdout",
          "text": [
            "9.0\n",
            "9\n",
            "9.0\n"
          ]
        }
      ]
    },
    {
      "cell_type": "code",
      "metadata": {
        "id": "VgoVTn6I0jnr",
        "colab": {
          "base_uri": "https://localhost:8080/"
        },
        "outputId": "2e734e4e-de15-4ac0-ffd4-cab070c63355"
      },
      "source": [
        "# Operações Aritméticas\n",
        "\n",
        "result = var_float / 3            # Division Operator (/)\n",
        "remainder = var_float - result    # Subtraction Operator (-)\n",
        "multiplication = var_float * 5    # Multiplication Operator (*)\n",
        "power = var_float ** 2            # Power Operator (**)\n",
        "modulo = var_float % 4            # modulo Operator (%)\n",
        "\n",
        "print(\"result = \" + str(result))\n",
        "print(\"remainder = \" + str(remainder))\n",
        "print(\"multiplication = \" + str(multiplication))\n",
        "print(\"power = \" + str(power))\n",
        "print(\"modulo = \" + str(modulo))"
      ],
      "execution_count": null,
      "outputs": [
        {
          "output_type": "stream",
          "name": "stdout",
          "text": [
            "result = 3.0\n",
            "remainder = 6.0\n",
            "multiplication = 45.0\n",
            "power = 81.0\n",
            "modulo = 1.0\n"
          ]
        }
      ]
    },
    {
      "cell_type": "code",
      "metadata": {
        "id": "KXm84FqH082m",
        "colab": {
          "base_uri": "https://localhost:8080/"
        },
        "outputId": "bdb13307-3e79-4e59-93be-fc4eeb31dd6c"
      },
      "source": [
        "# Incremento e Decremento\n",
        "\n",
        "var_float -= 2\n",
        "print(\"Assignment -= 2 equals \" + str(var_float))\n",
        "\n",
        "var_float += 5\n",
        "print(\"Assignment += 5 equals \" + str(var_float))"
      ],
      "execution_count": null,
      "outputs": [
        {
          "output_type": "stream",
          "name": "stdout",
          "text": [
            "Assignment -= 2 equals 7.0\n",
            "Assignment += 5 equals 12.0\n"
          ]
        }
      ]
    },
    {
      "cell_type": "code",
      "metadata": {
        "id": "JiS7vrGU1Cpr",
        "colab": {
          "base_uri": "https://localhost:8080/"
        },
        "outputId": "46daa704-d1ea-4737-b9b7-5b76199c1295"
      },
      "source": [
        "# Operadores Booleanos\n",
        "\n",
        "one = 1\n",
        "two = 2\n",
        "three = 3\n",
        "\n",
        "is_equal = two == three\n",
        "not_equal = two != three\n",
        "\n",
        "print(is_equal)\n",
        "print(not_equal)"
      ],
      "execution_count": null,
      "outputs": [
        {
          "output_type": "stream",
          "name": "stdout",
          "text": [
            "False\n",
            "True\n"
          ]
        }
      ]
    },
    {
      "cell_type": "code",
      "metadata": {
        "id": "YyXNEwLg1ZnL",
        "colab": {
          "base_uri": "https://localhost:8080/"
        },
        "outputId": "5c86c0c8-f045-466c-e7d1-471dfb067da4"
      },
      "source": [
        "# Operadores de Comparação\n",
        "\n",
        "print(one < two < three)\n",
        "\n",
        "is_greater = three > two\n",
        "print(is_greater)"
      ],
      "execution_count": null,
      "outputs": [
        {
          "output_type": "stream",
          "name": "stdout",
          "text": [
            "True\n",
            "True\n"
          ]
        }
      ]
    },
    {
      "cell_type": "code",
      "metadata": {
        "colab": {
          "base_uri": "https://localhost:8080/"
        },
        "id": "XSzyPSLTGYIx",
        "outputId": "b6099ed2-3dfc-40d6-b10f-77edf338f201"
      },
      "source": [
        "# Operadores and e or\n",
        "\n",
        "print((2 > 1) and (3 < 5))\n",
        "print((2 > 1) and (1 > 3))\n",
        "\n",
        "print((3 < 5) or (2 > 1))\n",
        "print((0 > 1) or (0 == -1))"
      ],
      "execution_count": null,
      "outputs": [
        {
          "output_type": "stream",
          "name": "stdout",
          "text": [
            "True\n",
            "False\n",
            "True\n",
            "False\n"
          ]
        }
      ]
    },
    {
      "cell_type": "markdown",
      "metadata": {
        "id": "BTEQ7Jkg1oHS"
      },
      "source": [
        "## Strings"
      ]
    },
    {
      "cell_type": "code",
      "metadata": {
        "id": "3r2MgilR1is2",
        "colab": {
          "base_uri": "https://localhost:8080/"
        },
        "outputId": "7fbfeac5-b657-4823-d6fe-b4519cbaa283"
      },
      "source": [
        "# Concatenação\n",
        "\n",
        "hello = \"Hello\" # pode ser tanto delimitada por aspas duplas...\n",
        "world = 'World' #... quanto por aspas simples\n",
        "hello_world = hello + \" \" + world\n",
        "\n",
        "print(hello_world)"
      ],
      "execution_count": null,
      "outputs": [
        {
          "output_type": "stream",
          "name": "stdout",
          "text": [
            "Hello World\n"
          ]
        }
      ]
    },
    {
      "cell_type": "code",
      "metadata": {
        "id": "dIQsp6sR2Dvq",
        "colab": {
          "base_uri": "https://localhost:8080/"
        },
        "outputId": "b465ace0-bb3d-4c5d-903d-378d4dbe3cd5"
      },
      "source": [
        "# Multiplicação de String por um número\n",
        "\n",
        "hello = \"hello\"\n",
        "ten_of_hellos = hello * 10\n",
        "print(ten_of_hellos)"
      ],
      "execution_count": null,
      "outputs": [
        {
          "output_type": "stream",
          "name": "stdout",
          "text": [
            "hellohellohellohellohellohellohellohellohellohello\n"
          ]
        }
      ]
    },
    {
      "cell_type": "code",
      "metadata": {
        "id": "dU--FJa32EK8",
        "colab": {
          "base_uri": "https://localhost:8080/"
        },
        "outputId": "dbe54dcb-c23d-4dfb-ed26-21cddf92942b"
      },
      "source": [
        "# Indexação\n",
        "\n",
        "python = \"This is a python string!\"\n",
        "\n",
        "# A indexação começa com 0\n",
        "print(python[2])\n",
        "\n",
        "# use -1 para pegar a última letra\n",
        "print(python[-1])"
      ],
      "execution_count": null,
      "outputs": [
        {
          "output_type": "stream",
          "name": "stdout",
          "text": [
            "i\n",
            "!\n"
          ]
        }
      ]
    },
    {
      "cell_type": "code",
      "metadata": {
        "id": "woSPHeHA2CH-",
        "colab": {
          "base_uri": "https://localhost:8080/"
        },
        "outputId": "58c8d5a0-2879-4cac-9957-646c4acf7491"
      },
      "source": [
        "# Substrings\n",
        "\n",
        "python_developer = \"Python Developer\"\n",
        "\n",
        "# string[start:end] - end não é incluso\n",
        "print(python_developer[:6])\n",
        "print(python_developer[7:])\n",
        "print(python_developer[4:10])\n",
        "print(python_developer[:])"
      ],
      "execution_count": null,
      "outputs": [
        {
          "output_type": "stream",
          "name": "stdout",
          "text": [
            "Python\n",
            "Developer\n",
            "on Dev\n",
            "Python Developer\n"
          ]
        }
      ]
    },
    {
      "cell_type": "code",
      "metadata": {
        "id": "lqYdd5lw2gdg",
        "colab": {
          "base_uri": "https://localhost:8080/"
        },
        "outputId": "8d5d1330-60f7-4c56-c0d9-c19a433f71c2"
      },
      "source": [
        "# Operador in\n",
        "\n",
        "ice_cream = \"Ice Cream\"\n",
        "\n",
        "# checa se a string contem \"cream\"\n",
        "print(\"ream\" in ice_cream)"
      ],
      "execution_count": null,
      "outputs": [
        {
          "output_type": "stream",
          "name": "stdout",
          "text": [
            "True\n"
          ]
        }
      ]
    },
    {
      "cell_type": "code",
      "metadata": {
        "id": "cbM5SOHW2h3n",
        "colab": {
          "base_uri": "https://localhost:8080/"
        },
        "outputId": "33f2f0a7-6ebf-4ded-d31b-fcfe26fbbcdd"
      },
      "source": [
        "# Tamanho\n",
        "\n",
        "print(len(ice_cream))"
      ],
      "execution_count": null,
      "outputs": [
        {
          "output_type": "stream",
          "name": "stdout",
          "text": [
            "9\n"
          ]
        }
      ]
    },
    {
      "cell_type": "code",
      "metadata": {
        "id": "FmHXDp3I2iEQ",
        "colab": {
          "base_uri": "https://localhost:8080/"
        },
        "outputId": "61df73ad-c1b1-4cd8-fd86-67674fa0059f"
      },
      "source": [
        "# Escaping\n",
        "\n",
        "print(\"\\\"Sweet\\\"\" + ice_cream)\n",
        "print('\\\"Sweet\\\"' + ice_cream)\n",
        "print(\"Sweet\\n\" + ice_cream) # \\n = nova linha"
      ],
      "execution_count": null,
      "outputs": [
        {
          "output_type": "stream",
          "name": "stdout",
          "text": [
            "\"Sweet\"Ice Cream\n",
            "\"Sweet\"Ice Cream\n",
            "Sweet\n",
            "Ice Cream\n"
          ]
        }
      ]
    },
    {
      "cell_type": "code",
      "metadata": {
        "id": "93Yn1Ghp2iJ6",
        "colab": {
          "base_uri": "https://localhost:8080/"
        },
        "outputId": "c0e532f0-007b-49a6-9ff1-83d2d5e54096"
      },
      "source": [
        "# Maiúsculas e Minúsculas\n",
        "\n",
        "print(ice_cream.lower())\n",
        "print(ice_cream.upper())"
      ],
      "execution_count": null,
      "outputs": [
        {
          "output_type": "stream",
          "name": "stdout",
          "text": [
            "ice cream\n",
            "ICE CREAM\n"
          ]
        }
      ]
    },
    {
      "cell_type": "code",
      "metadata": {
        "id": "CiSlIYXM2iPQ",
        "colab": {
          "base_uri": "https://localhost:8080/"
        },
        "outputId": "01eb1f96-23a4-4f0a-a5b3-0a82ef6748ee"
      },
      "source": [
        "# Formatação\n",
        "\n",
        "name = \"Belinha\"\n",
        "integer = 5\n",
        "decimal = 9.0\n",
        "print(\"Hello! My name is %s!\\nMy favourite numbers:Integer(%d) and Decimal(%d)\" % (name, integer, decimal))\n",
        "print(\"Hello! My name is %s!\\nMy favourite numbers:Integer(%d) and Decimal(%f)\" % (name, integer, decimal))"
      ],
      "execution_count": null,
      "outputs": [
        {
          "output_type": "stream",
          "name": "stdout",
          "text": [
            "Hello! My name is Belinha!\n",
            "My favourite numbers:Integer(5) and Decimal(9)\n",
            "Hello! My name is Belinha!\n",
            "My favourite numbers:Integer(5) and Decimal(9.000000)\n"
          ]
        }
      ]
    },
    {
      "cell_type": "markdown",
      "metadata": {
        "id": "FP8eDc063Tvr"
      },
      "source": [
        "## Coleções\n",
        "\n",
        "O Python nos fornece algumas estruturas de dados compostas ou que contenham outros tipos de dados, chamadas estruturas “contêiner” como: dict, list e tuple. "
      ]
    },
    {
      "cell_type": "code",
      "metadata": {
        "id": "TMVhEgzH3VHP",
        "colab": {
          "base_uri": "https://localhost:8080/"
        },
        "outputId": "1795b1bf-1a79-4aa5-9462-ce5eb0333f56"
      },
      "source": [
        "# Listas (Arrays): Definidas por []\n",
        "# São sequências mutáveis, normalmente usadas para armazenar coleções de itens\n",
        "\n",
        "squares = [1, 4, 9, 16, 25]\n",
        "print(squares)"
      ],
      "execution_count": null,
      "outputs": [
        {
          "output_type": "stream",
          "name": "stdout",
          "text": [
            "[1, 4, 9, 16, 25]\n"
          ]
        }
      ]
    },
    {
      "cell_type": "code",
      "metadata": {
        "id": "gTFmI_2y3n9F",
        "colab": {
          "base_uri": "https://localhost:8080/"
        },
        "outputId": "b36c18ac-8ef9-479e-fd62-4fcab0e3df20"
      },
      "source": [
        "# Operações de Listas\n",
        "\n",
        "animals = ['elephant', 'lion', 'tiger', \"giraffe\"]\n",
        "print(animals)\n",
        "\n",
        "# incluir 2 itens na lista\n",
        "animals += [\"monkey\", 'dog']\n",
        "print(animals)\n",
        "\n",
        "# incluir 1 item na lista usando append\n",
        "animals.append(\"dino\")\n",
        "print(animals)"
      ],
      "execution_count": null,
      "outputs": [
        {
          "output_type": "stream",
          "name": "stdout",
          "text": [
            "['elephant', 'lion', 'tiger', 'giraffe']\n",
            "['elephant', 'lion', 'tiger', 'giraffe', 'monkey', 'dog']\n",
            "['elephant', 'lion', 'tiger', 'giraffe', 'monkey', 'dog', 'dino']\n"
          ]
        }
      ]
    },
    {
      "cell_type": "code",
      "metadata": {
        "id": "E_pyA6WL3oD-",
        "colab": {
          "base_uri": "https://localhost:8080/"
        },
        "outputId": "fa52db6c-a671-42dc-ed5c-236ed6fcac48"
      },
      "source": [
        "# Itens de uma lista\n",
        "\n",
        "# substituir 2 itens -- 'lion' e 'tiger' por um item -- 'cat'\n",
        "animals[1:3] = ['cat']\n",
        "print(animals)\n",
        "\n",
        "# remover 2 itens -- 'cat' e 'giraffe' da list\n",
        "animals[1:3] = []\n",
        "print(animals)"
      ],
      "execution_count": null,
      "outputs": [
        {
          "output_type": "stream",
          "name": "stdout",
          "text": [
            "['elephant', 'cat', 'giraffe', 'monkey', 'dog', 'dino']\n",
            "['elephant', 'monkey', 'dog', 'dino']\n"
          ]
        }
      ]
    },
    {
      "cell_type": "code",
      "metadata": {
        "id": "-YQlCOCB3oQB",
        "colab": {
          "base_uri": "https://localhost:8080/"
        },
        "outputId": "f4e8f160-e18a-43a1-a6f0-8926dce63a6f"
      },
      "source": [
        "# Tuplas: Definidas por ()\n",
        "# São listas imutáveis, não sendo possível adicionar, alterar ou deletar itens de tuplas\n",
        "\n",
        "alphabet = ('a', 'b', 'c', 'd', 'e', 'f', 'g', 'h', 'i', 'j', 'k', 'l', 'm', 'n', 'o',\n",
        "            'p', 'q', 'r', 's', 't', 'u', 'v', 'w', 'x', 'y', 'z')\n",
        "print(alphabet)"
      ],
      "execution_count": null,
      "outputs": [
        {
          "output_type": "stream",
          "name": "stdout",
          "text": [
            "('a', 'b', 'c', 'd', 'e', 'f', 'g', 'h', 'i', 'j', 'k', 'l', 'm', 'n', 'o', 'p', 'q', 'r', 's', 't', 'u', 'v', 'w', 'x', 'y', 'z')\n"
          ]
        }
      ]
    },
    {
      "cell_type": "code",
      "metadata": {
        "id": "usigjuhB3oYz",
        "colab": {
          "base_uri": "https://localhost:8080/"
        },
        "outputId": "4d7c0c31-774b-4d1d-f1e4-e804083046b6"
      },
      "source": [
        "# Dicionários: Definidas por {}\n",
        "# São coleções desordenadas, mutáveis e indexadas com chaves e valores.\n",
        "# As chaves de um dicionário precisam únicas e de tipos imutáveis como string, números ou tuplas. \n",
        "# Os valores de um dicionário podem ser de qualquer tipo.\n",
        "\n",
        "# criar e imprimir um dicionário\n",
        "phone_book = {\"John\": 123, \"Jane\": 234, \"Jerard\": 345}\n",
        "print(phone_book)\n",
        "\n",
        "# acessar o valor correspondente à chave \"John\n",
        "print(phone_book[\"John\"])\n",
        "\n",
        "# ler um valor chave específico, concatenado com uma mensagem\n",
        "print(\"Jane's Phone: %s\" % (phone_book[\"Jane\"]))\n",
        "\n",
        "# incluir novo item no dicionário\n",
        "phone_book[\"Jill\"] = 345\n",
        "print(phone_book)\n",
        "\n",
        "# remover par chave-valor de phone_book\n",
        "del phone_book[\"John\"]\n",
        "print(phone_book)\n",
        "\n",
        "# checar se phone_book contém o item \"Jane\"\n",
        "print(\"Jane\" in phone_book)"
      ],
      "execution_count": null,
      "outputs": [
        {
          "output_type": "stream",
          "name": "stdout",
          "text": [
            "{'John': 123, 'Jane': 234, 'Jerard': 345}\n",
            "123\n",
            "Jane's Phone: 234\n",
            "{'John': 123, 'Jane': 234, 'Jerard': 345, 'Jill': 345}\n",
            "{'Jane': 234, 'Jerard': 345, 'Jill': 345}\n",
            "True\n"
          ]
        }
      ]
    },
    {
      "cell_type": "markdown",
      "metadata": {
        "id": "FgvuadFJ44he"
      },
      "source": [
        "## Condições"
      ]
    },
    {
      "cell_type": "code",
      "metadata": {
        "id": "8pB9PYsf49My",
        "colab": {
          "base_uri": "https://localhost:8080/"
        },
        "outputId": "c045bd65-cc9b-498a-f529-4def934ca82f"
      },
      "source": [
        "# Expressões booleanas\n",
        "\n",
        "name = \"John\"\n",
        "age = 17\n",
        "\n",
        "# checa se name é igual a \"John\" OU age é igual a 17\n",
        "print(name == \"John\" or age == 17)\n",
        "\n",
        "# ordem dos operadores: NOT é o primeiro, em seguida AND, depois OR\n",
        "print(name == \"John\" or not age > 16) # V com F\n",
        "print(name == \"John\" and not age > 16) # V com F"
      ],
      "execution_count": null,
      "outputs": [
        {
          "output_type": "stream",
          "name": "stdout",
          "text": [
            "True\n",
            "True\n",
            "False\n"
          ]
        }
      ]
    },
    {
      "cell_type": "code",
      "metadata": {
        "id": "zc7SmL9B5Rkk",
        "colab": {
          "base_uri": "https://localhost:8080/"
        },
        "outputId": "0b055f4d-a9bb-4f10-bdce-a030505d9600"
      },
      "source": [
        "# Comandos if, elif e else\n",
        "\n",
        "if name == \"John\" or age == 17:\n",
        "  print(\"name is %s\" %name)\n",
        "  print(\"%s is %d years old\" %(name, age))\n",
        "\n",
        "task = [\"task1\", \"task2\"]\n",
        "if len(task) == 0:\n",
        "  print(\"List Empty\")\n",
        "elif len(task) == 1:\n",
        "  print(\"single record\")\n",
        "else:\n",
        "  print(\"length %d\" % len(task))"
      ],
      "execution_count": null,
      "outputs": [
        {
          "output_type": "stream",
          "name": "stdout",
          "text": [
            "name is John\n",
            "John is 17 years old\n",
            "length 2\n"
          ]
        }
      ]
    },
    {
      "cell_type": "markdown",
      "metadata": {
        "id": "eVsm3csc5eN7"
      },
      "source": [
        "## Loops"
      ]
    },
    {
      "cell_type": "code",
      "metadata": {
        "id": "Qu5LEeRb5uPf",
        "colab": {
          "base_uri": "https://localhost:8080/"
        },
        "outputId": "09440404-76c8-4661-e2b2-7c6a2638f9b8"
      },
      "source": [
        "# Loop for\n",
        "for i in range(5):\n",
        "  print(i)\n",
        "\n",
        "primes = [2, 3, 5, 7]\n",
        "for i in range(len(primes)):\n",
        "  print(\"index %d \" % primes[i])"
      ],
      "execution_count": null,
      "outputs": [
        {
          "output_type": "stream",
          "name": "stdout",
          "text": [
            "0\n",
            "1\n",
            "2\n",
            "3\n",
            "4\n",
            "index 2 \n",
            "index 3 \n",
            "index 5 \n",
            "index 7 \n"
          ]
        }
      ]
    },
    {
      "cell_type": "code",
      "metadata": {
        "id": "VcECdMpc6DHB",
        "colab": {
          "base_uri": "https://localhost:8080/"
        },
        "outputId": "27ccc9cd-3fa1-47b4-dc07-4cca81266ff3"
      },
      "source": [
        "# Loop for usando string\n",
        "\n",
        "hello_world = \"Hello, World!\"\n",
        "\n",
        "# imprimir cada caracter\n",
        "for ch in hello_world:\n",
        "  print(ch);\n",
        "\n",
        "# contar a quantidade de caracteres usando loop\n",
        "length = 0\n",
        "for ch in hello_world:\n",
        "  length += 1;\n",
        "print(\"number of characters %d \" % length)\n"
      ],
      "execution_count": null,
      "outputs": [
        {
          "output_type": "stream",
          "name": "stdout",
          "text": [
            "H\n",
            "e\n",
            "l\n",
            "l\n",
            "o\n",
            ",\n",
            " \n",
            "W\n",
            "o\n",
            "r\n",
            "l\n",
            "d\n",
            "!\n",
            "number of characters 13 \n"
          ]
        }
      ]
    },
    {
      "cell_type": "code",
      "metadata": {
        "id": "Y-0HBHCN6DT8",
        "colab": {
          "base_uri": "https://localhost:8080/"
        },
        "outputId": "26a2b7b2-66a6-482d-e59d-4dd6147428d8"
      },
      "source": [
        "# Loop While\n",
        "square = 1\n",
        "\n",
        "# imprimir de 1 a 10\n",
        "while square <= 10:\n",
        "  print(square)\n",
        "  square += 1\n",
        "\n",
        "# imprimir de 1 a 100 elevado ao quadrado ** (1, 4, 16...)\n",
        "number = 1\n",
        "while square <= 99:\n",
        "  square = number ** 2\n",
        "  print(\"square %d\" % square)\n",
        "  number += 1"
      ],
      "execution_count": null,
      "outputs": [
        {
          "output_type": "stream",
          "name": "stdout",
          "text": [
            "1\n",
            "2\n",
            "3\n",
            "4\n",
            "5\n",
            "6\n",
            "7\n",
            "8\n",
            "9\n",
            "10\n",
            "square 1\n",
            "square 4\n",
            "square 9\n",
            "square 16\n",
            "square 25\n",
            "square 36\n",
            "square 49\n",
            "square 64\n",
            "square 81\n",
            "square 100\n"
          ]
        }
      ]
    },
    {
      "cell_type": "code",
      "metadata": {
        "id": "iXJbCABu6DQi",
        "colab": {
          "base_uri": "https://localhost:8080/"
        },
        "outputId": "67f09905-0ef3-4b13-ef3f-2b6276cf23a9"
      },
      "source": [
        "# Break\n",
        "\n",
        "count = 0\n",
        "\n",
        "# loop infinito - nunca é False\n",
        "while True:\n",
        "  print(count)\n",
        "  count += 1\n",
        "  if count >= 5:\n",
        "    # sai do loop\n",
        "    break\n",
        "\n",
        "zoo = [\"lion\", 'tiger', 'elephant']\n",
        "\n",
        "# loop infinito - nunca é False\n",
        "while True:\n",
        "  # pop: retira e retorna o último item da lista\n",
        "  animal = zoo.pop()\n",
        "  print(animal)\n",
        "  if animal == \"lion\":\n",
        "    break;"
      ],
      "execution_count": null,
      "outputs": [
        {
          "output_type": "stream",
          "name": "stdout",
          "text": [
            "0\n",
            "1\n",
            "2\n",
            "3\n",
            "4\n",
            "elephant\n",
            "tiger\n",
            "lion\n"
          ]
        }
      ]
    },
    {
      "cell_type": "code",
      "metadata": {
        "id": "bgQMCSeh6DEZ",
        "colab": {
          "base_uri": "https://localhost:8080/"
        },
        "outputId": "74a00a46-0c58-45fa-ec37-832e9b707d90"
      },
      "source": [
        "# Continue\n",
        "\n",
        "for i in range(5):\n",
        "  if i == 3:\n",
        "     # pula o resto do código e move para a próxima iteração do loop\n",
        "     continue\n",
        "  print(i)\n",
        "\n",
        "# imprimir somente os ímpares\n",
        "for x in range(10):\n",
        "  if (x % 2) == 0:\n",
        "    # pula print(x) para este loop\n",
        "      continue\n",
        "  print(\"event number %d\" % x)"
      ],
      "execution_count": null,
      "outputs": [
        {
          "output_type": "stream",
          "name": "stdout",
          "text": [
            "0\n",
            "1\n",
            "2\n",
            "4\n",
            "event number 1\n",
            "event number 3\n",
            "event number 5\n",
            "event number 7\n",
            "event number 9\n"
          ]
        }
      ]
    },
    {
      "cell_type": "markdown",
      "metadata": {
        "id": "MSdvc_x67Ji-"
      },
      "source": [
        "## Funções"
      ]
    },
    {
      "cell_type": "code",
      "metadata": {
        "id": "s90NU2mX7Krn",
        "colab": {
          "base_uri": "https://localhost:8080/"
        },
        "outputId": "4959b8f7-c8a9-4ce1-c456-952383b3a464"
      },
      "source": [
        "# Definição de funções\n",
        "\n",
        "# definir uma função chamada hello_world\n",
        "def hello_world():\n",
        "  print(\"Hello, World!\")\n",
        "\n",
        "# chamar a função 5 vezes\n",
        "for i in range(5):\n",
        "  hello_world()"
      ],
      "execution_count": null,
      "outputs": [
        {
          "output_type": "stream",
          "name": "stdout",
          "text": [
            "Hello, World!\n",
            "Hello, World!\n",
            "Hello, World!\n",
            "Hello, World!\n",
            "Hello, World!\n"
          ]
        }
      ]
    },
    {
      "cell_type": "code",
      "metadata": {
        "id": "2V0gj8WR7sqw",
        "colab": {
          "base_uri": "https://localhost:8080/"
        },
        "outputId": "73be30d8-10a0-4cc0-8756-f7a579247f56"
      },
      "source": [
        "# Funções com parâmetros e argumentos\n",
        "\n",
        "# x é um parâmetro\n",
        "def foo(x):\n",
        "  print(\"x = %d\" % x)\n",
        "\n",
        "# passar 5 como parâmetro da função. Aqui, 5 é um argumento.\n",
        "foo(5)"
      ],
      "execution_count": null,
      "outputs": [
        {
          "output_type": "stream",
          "name": "stdout",
          "text": [
            "x = 5\n"
          ]
        }
      ]
    },
    {
      "cell_type": "code",
      "metadata": {
        "id": "3mKcdhL17sv_",
        "colab": {
          "base_uri": "https://localhost:8080/"
        },
        "outputId": "d07b5a02-cef0-4653-8b49-7e33d89e4c4f"
      },
      "source": [
        "# Funções com retorno\n",
        "\n",
        "# função que retorna a soma de dois números\n",
        "def sum_two_numbers(a, b):\n",
        "  return a + b\n",
        "\n",
        "c = sum_two_numbers(3, 12)\n",
        "print(\"c = %d\" % c)"
      ],
      "execution_count": null,
      "outputs": [
        {
          "output_type": "stream",
          "name": "stdout",
          "text": [
            "c = 15\n"
          ]
        }
      ]
    },
    {
      "cell_type": "code",
      "metadata": {
        "id": "UEMy-AyA7s1I",
        "colab": {
          "base_uri": "https://localhost:8080/"
        },
        "outputId": "083bc697-8f52-4333-98b1-ddda78ddf4f4"
      },
      "source": [
        "# Função com parâmetros default\n",
        "\n",
        "def multiply_by(a, b=2):\n",
        "  return a * b\n",
        "\n",
        "print(multiply_by(3, 47))\n",
        "\n",
        "# podemos passar apenas um argumento\n",
        "print(multiply_by(3))"
      ],
      "execution_count": null,
      "outputs": [
        {
          "output_type": "stream",
          "name": "stdout",
          "text": [
            "141\n",
            "6\n"
          ]
        }
      ]
    },
    {
      "cell_type": "markdown",
      "metadata": {
        "id": "Bu0hscz_77rA"
      },
      "source": [
        "## Classes e Objetos"
      ]
    },
    {
      "cell_type": "code",
      "metadata": {
        "id": "v_T1prY98k8Q",
        "colab": {
          "base_uri": "https://localhost:8080/"
        },
        "outputId": "47ccb6f6-a246-441e-dcc1-d5ee0dbdd48a"
      },
      "source": [
        "# Definição de classes - Exemplo 1\n",
        "\n",
        "class MyClass:\n",
        "  variable1 = 1\n",
        "  variable2 = 1\n",
        "\n",
        "  def foo(self):\n",
        "      # (explcaremos self depois)\n",
        "      print(\"Hello from function foo\")\n",
        "\n",
        "# a variável my_object guarda um objeto da classe \"MyClass\", que contém variable1, variable2 e foo\n",
        "my_object = MyClass()\n",
        "# a variável my_object1 guarda OUTRO objeto da classe \"MyClass\", que contém variable1, variable2 e foo\n",
        "my_object1 = MyClass()\n",
        "\n",
        "# mudar o valor de variable2 em my_object, my_object1 continua inalterado\n",
        "my_object.variable2 = 3\n",
        "\n",
        "print(my_object.variable1)\n",
        "print(my_object1.variable1)\n",
        "\n",
        "print(my_object.variable2)\n",
        "print(my_object1.variable2)\n",
        "\n",
        "my_object.foo()\n",
        "my_object1.foo()"
      ],
      "execution_count": null,
      "outputs": [
        {
          "output_type": "stream",
          "name": "stdout",
          "text": [
            "1\n",
            "1\n",
            "3\n",
            "1\n",
            "Hello from function foo\n",
            "Hello from function foo\n"
          ]
        }
      ]
    },
    {
      "cell_type": "code",
      "metadata": {
        "id": "llHtIXU9825j",
        "colab": {
          "base_uri": "https://localhost:8080/"
        },
        "outputId": "df2ba6e9-473d-48bd-d9c0-b361af36afcc"
      },
      "source": [
        "# Definição de classes - Exemplo 2\n",
        "\n",
        "class Car:\n",
        "  color = \"\"\n",
        "\n",
        "  def description(self):\n",
        "    description_string = \"This is a %s car.\" % self.color\n",
        "    return description_string\n",
        "\n",
        "car1 = Car()\n",
        "car2 = Car()\n",
        "car1.color = \"blue\"\n",
        "car2.color = \"red\"\n",
        "\n",
        "print(car1.description())\n",
        "print(car2.description())"
      ],
      "execution_count": null,
      "outputs": [
        {
          "output_type": "stream",
          "name": "stdout",
          "text": [
            "This is a blue car.\n",
            "This is a red car.\n"
          ]
        }
      ]
    },
    {
      "cell_type": "code",
      "metadata": {
        "id": "0R5U4vL-83C_",
        "colab": {
          "base_uri": "https://localhost:8080/"
        },
        "outputId": "a02ad110-c84a-4be0-99ba-8c7e78e23e24"
      },
      "source": [
        "# Parâmetro self (Não vamos utilizar em ML)\n",
        "\n",
        "# \"self\" é o primeiro parâmetro passado para qualquer método de classe\n",
        "# Python usará \"self\" para referenciar o objeto que está sendo criado\n",
        "class Calculator:\n",
        "  current = 5\n",
        "\n",
        "  def add(self, amount):\n",
        "    # não podemos chamar a variável \"current\" sem \"self\" porque \"current\" é uma variável da classe Calculator\n",
        "    return self.current + amount;\n",
        "\n",
        "total = Calculator()\n",
        "print(\"total = %d\" % total.add(3))"
      ],
      "execution_count": null,
      "outputs": [
        {
          "output_type": "stream",
          "name": "stdout",
          "text": [
            "total = 8\n"
          ]
        }
      ]
    },
    {
      "cell_type": "code",
      "metadata": {
        "id": "RPsm9unA83KQ",
        "colab": {
          "base_uri": "https://localhost:8080/"
        },
        "outputId": "77b0a245-0562-4eb1-f7bf-a6fe9dfab549"
      },
      "source": [
        "# Método  __init__ (Não vamos utilizar em ML)\n",
        "\n",
        "class Truck:\n",
        "\n",
        "  # __init__ é usado para inicializar os objetos criados pela Classe\n",
        "  def __init__(self):\n",
        "    self.color = \"black\"\n",
        "\n",
        "truck = Truck()\n",
        "print(truck.color)"
      ],
      "execution_count": null,
      "outputs": [
        {
          "output_type": "stream",
          "name": "stdout",
          "text": [
            "black\n"
          ]
        }
      ]
    },
    {
      "cell_type": "code",
      "metadata": {
        "id": "5CgFqLI-82-G",
        "colab": {
          "base_uri": "https://localhost:8080/"
        },
        "outputId": "3069c871-7f7f-4aa8-94b9-2e2bf57b2aed"
      },
      "source": [
        "# Herança (Não vamos utilizar em ML)\n",
        "\n",
        "class Parent():\n",
        "  def func_override(self):\n",
        "      print(\"override from parent\")\n",
        "\n",
        "  def func_implicit(self):\n",
        "      print(\"implicit from parent\")\n",
        "\n",
        "  def func_altered(self):\n",
        "      print(\"altered from parent\")\n",
        "\n",
        "\n",
        "class Child(Parent):\n",
        "  def func_override(self):\n",
        "      print(\"override from child\")\n",
        "\n",
        "  def func_altered(self):\n",
        "      print(\"altered from child\")\n",
        "      # super chama a mesma função da classe pai\n",
        "      super(Child, self).func_altered()\n",
        "\n",
        "parent = Parent()\n",
        "child = Child()\n",
        "\n",
        "parent.func_override()\n",
        "parent.func_implicit()\n",
        "parent.func_altered()\n",
        "\n",
        "child.func_override()\n",
        "child.func_implicit()\n",
        "child.func_altered()"
      ],
      "execution_count": null,
      "outputs": [
        {
          "output_type": "stream",
          "name": "stdout",
          "text": [
            "override from parent\n",
            "implicit from parent\n",
            "altered from parent\n",
            "override from child\n",
            "implicit from parent\n",
            "altered from child\n",
            "altered from parent\n"
          ]
        }
      ]
    },
    {
      "cell_type": "markdown",
      "metadata": {
        "id": "3VNr-wmhYRyJ"
      },
      "source": [
        "## Leitura e escrita de arquivos"
      ]
    },
    {
      "cell_type": "code",
      "metadata": {
        "id": "mj0JkVkiAKQF",
        "colab": {
          "base_uri": "https://localhost:8080/"
        },
        "outputId": "4cf5ed7e-8ec3-4424-84b9-c393f0ea8d75"
      },
      "source": [
        "zoo = ['lion', \"elephant\", 'monkey']\n",
        "\n",
        "# Escrita de um arquivo\n",
        "\n",
        "# Abrir o arquivo em modo de escrita (\"w\" para escrita)\n",
        "f = open(\"file.txt\", \"w\")\n",
        "\n",
        "# escrever no arquivo\n",
        "for i in zoo:\n",
        "  f.write(i + \"\\n\")\n",
        "\n",
        "# fechar o arquivo\n",
        "f.close()\n",
        "\n",
        "\n",
        "# Leitura de um arquivo\n",
        "\n",
        "# Abrir o arquivo em modo de leitura (\"r\" para leitura)\n",
        "f = open(\"file.txt\", \"r\")\n",
        "\n",
        "# ler apenas a primeira linha\n",
        "for line in f.readlines():\n",
        "  print(line)\n",
        "  break\n",
        "\n",
        "# fechar o arquivo\n",
        "f.close()"
      ],
      "execution_count": null,
      "outputs": [
        {
          "output_type": "stream",
          "name": "stdout",
          "text": [
            "lion\n",
            "\n"
          ]
        }
      ]
    },
    {
      "cell_type": "markdown",
      "metadata": {
        "id": "6WE15aEjcIJ0"
      },
      "source": [
        "## SQL com SQLite"
      ]
    },
    {
      "cell_type": "code",
      "metadata": {
        "id": "sB8mVUaicJvh",
        "colab": {
          "base_uri": "https://localhost:8080/"
        },
        "outputId": "68532b29-ddff-4c03-fa3a-07d65d531792"
      },
      "source": [
        "# importação da bibloteca do SQLite\n",
        "import sqlite3\n",
        "\n",
        "# criar conexão (irá criar ou abrir o arquivo .db do banco de dados)\n",
        "con = sqlite3.connect(\"carsdb.db\")\n",
        "\n",
        "# o cursor permite percorrer os registros de um banco de dados\n",
        "c = con.cursor()\n",
        "\n",
        "# criar uma tabela\n",
        "c.execute(\"create table if not exists cars(brand text, price text)\")\n",
        "\n",
        "# inserir registros na tabela\n",
        "c.execute(\"insert into cars (brand, price) values ('bmw', 3000)\")\n",
        "c.execute(\"insert into cars (brand, price) values ('ethios', 1000)\")\n",
        "\n",
        "# executar select * na tabela\n",
        "result = c.execute(\"select * from cars\")\n",
        "\n",
        "# imprimir a primeira linha do select\n",
        "print(result.fetchone())\n",
        "\n",
        "# PARA CASA: Como imprimir TODAS as linhas da tabela?\n",
        "\n",
        "# fechar a conexão\n",
        "con.close()"
      ],
      "execution_count": null,
      "outputs": [
        {
          "output_type": "stream",
          "name": "stdout",
          "text": [
            "('bmw', '3000')\n"
          ]
        }
      ]
    }
  ]
}